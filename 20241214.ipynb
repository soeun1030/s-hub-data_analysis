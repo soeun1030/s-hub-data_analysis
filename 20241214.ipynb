{
 "cells": [
  {
   "cell_type": "code",
   "execution_count": 33,
   "metadata": {},
   "outputs": [
    {
     "name": "stdout",
     "output_type": "stream",
     "text": [
      "[0. 0. 0. 0. 0. 0. 0. 0. 0. 0.]\n",
      "[0. 0. 0. 0. 1. 0. 0. 0. 0. 0.]\n",
      "[10 11 12 13 14 15 16 17 18 19 20 21 22 23 24 25 26 27 28 29 30]\n",
      "[[32  9]\n",
      " [88 87]]\n",
      "[[47 51]\n",
      " [75 95]]\n",
      "[[0.86615197 0.50372041 0.79551062 0.47084824]\n",
      " [0.71893771 0.35228386 0.44047413 0.21123305]]\n"
     ]
    }
   ],
   "source": [
    "# 실습1. Numpy 모듈 사용해보기1\n",
    "##1\n",
    "import numpy as np\n",
    "ndar1 = np.zeros(10)\n",
    "print(ndar1)\n",
    "\n",
    "##2\n",
    "ndar2 = ndar1\n",
    "ndar2[4] = 1\n",
    "print(ndar2)\n",
    "\n",
    "##3\n",
    "ndar3 = np.arange(10,31)\n",
    "print(ndar3)\n",
    "\n",
    "##4\n",
    "ndar4 = np.random.randint(100, size=(2,2))\n",
    "print(ndar4)\n",
    "###최신방법\n",
    "rng = np.random.default_rng(1)\n",
    "ndar4_1 = rng.integers(100, size = (2,2))\n",
    "print(ndar4_1)\n",
    "\n",
    "##5\n",
    "ndar5 = np.random.rand(2,4)\n",
    "print(ndar5)"
   ]
  },
  {
   "cell_type": "code",
   "execution_count": 108,
   "metadata": {},
   "outputs": [
    {
     "name": "stdout",
     "output_type": "stream",
     "text": [
      "[35 36 37 38 39 40 41 42 43 44 45 46 47 48 49 50 51 52 53 54 55 56 57 58\n",
      " 59 60 61 62 63 64 65 66 67 68 69 70 71 72 73 74]\n",
      "[[35 36 37 38]\n",
      " [39 40 41 42]\n",
      " [43 44 45 46]\n",
      " [47 48 49 50]\n",
      " [51 52 53 54]\n",
      " [55 56 57 58]\n",
      " [59 60 61 62]\n",
      " [63 64 65 66]\n",
      " [67 68 69 70]\n",
      " [71 72 73 74]]\n",
      "[[71 72 73 74]\n",
      " [67 68 69 70]\n",
      " [63 64 65 66]\n",
      " [59 60 61 62]\n",
      " [55 56 57 58]\n",
      " [51 52 53 54]\n",
      " [47 48 49 50]\n",
      " [43 44 45 46]\n",
      " [39 40 41 42]\n",
      " [35 36 37 38]]\n",
      "[[41 42]\n",
      " [45 46]\n",
      " [49 50]\n",
      " [53 54]\n",
      " [57 58]\n",
      " [61 62]\n",
      " [65 66]\n",
      " [69 70]]\n"
     ]
    }
   ],
   "source": [
    "##6\n",
    "ndar6 = np.arange(35,75)\n",
    "print(ndar6)\n",
    "ndar6_1 = ndar6.reshape(10,4)\n",
    "print(ndar6_1)\n",
    "###방법2 - 그냥 shape 사용해도됨\n",
    "# ndar6.shape = (10,4)\n",
    "# print(ndar6)\n",
    "\n",
    "##7\n",
    "ndar7 = ndar6_1[::-1]\n",
    "print(ndar7)\n",
    "\n",
    "##8\n",
    "ndar8 = ndar6_1[1:-1,2:]\n",
    "print(ndar8)"
   ]
  },
  {
   "cell_type": "code",
   "execution_count": 116,
   "metadata": {},
   "outputs": [
    {
     "name": "stdout",
     "output_type": "stream",
     "text": [
      "[38 42 46 50 54 58 62 66 70 74]\n",
      "1\n",
      "[[38]\n",
      " [42]\n",
      " [46]\n",
      " [50]\n",
      " [54]\n",
      " [58]\n",
      " [62]\n",
      " [66]\n",
      " [70]\n",
      " [74]]\n",
      "2\n",
      "[[74]\n",
      " [70]\n",
      " [66]\n",
      " [62]\n",
      " [58]\n",
      " [54]\n",
      " [50]\n",
      " [46]\n",
      " [42]\n",
      " [38]]\n",
      "[[ 4 42  7 18 28 40]\n",
      " [39  9 47 46 12 22]\n",
      " [26 40 32  1 39 37]\n",
      " [45 20 11 17 31  3]\n",
      " [ 2 11 17 45 32 35]]\n",
      "[ 4 42 18 28 40 46 12 22 26 40 32 20  2 32]\n"
     ]
    }
   ],
   "source": [
    "##9\n",
    "ndar9 = ndar6_1[:,-1]\n",
    "print(ndar9)\n",
    "print(ndar9.ndim)\n",
    "\n",
    "##9-1\n",
    "ndar9_1 = ndar9.reshape(10,1)\n",
    "print(ndar9_1)\n",
    "print(ndar9_1.ndim)\n",
    "###방법2 - 6번을 이용해서(이게 완벽한 정답)\n",
    "# ndar9_1 = ndar6_1[:, -1:]\n",
    "# print(ndar9_1)\n",
    "# print(ndar9_1.ndim)\n",
    "\n",
    "##10\n",
    "ndar10 = ndar9_1[::-1]\n",
    "print(ndar10)\n",
    "\n",
    "##11\n",
    "ndar11 = np.random.randint(1,51, size=(5,6))\n",
    "print(ndar11)\n",
    "ndar11_1 = (ndar11 % 2 == 0)\n",
    "print(ndar11[ndar11_1])"
   ]
  },
  {
   "cell_type": "code",
   "execution_count": 140,
   "metadata": {},
   "outputs": [
    {
     "name": "stdout",
     "output_type": "stream",
     "text": [
      "(2, 2)\n",
      "[[[1 2]\n",
      "  [3 4]]]\n",
      "(1, 2, 2)\n",
      "[[[1 2]]\n",
      "\n",
      " [[3 4]]]\n",
      "(2, 1, 2)\n"
     ]
    }
   ],
   "source": [
    "# 차원 확장\n",
    "import numpy as np\n",
    "a = np.array([[1,2],[3,4]])\n",
    "expanded = np.expand_dims(a,0)\n",
    "print(a.shape)\n",
    "print(expanded)\n",
    "print(expanded.shape)\n",
    "\n",
    "expanded = np.expand_dims(a,1)\n",
    "print(expanded)\n",
    "print(expanded.shape)\n",
    "\n",
    "expanded = np.expand_dims(a,2)\n",
    "print(expanded)\n",
    "print(expanded.shape)"
   ]
  },
  {
   "cell_type": "code",
   "execution_count": 163,
   "metadata": {},
   "outputs": [
    {
     "name": "stdout",
     "output_type": "stream",
     "text": [
      "[[[[1. 1. 1.]]\n",
      "\n",
      "  [[1. 1. 1.]]]]\n",
      "[[1. 1. 1.]\n",
      " [1. 1. 1.]]\n",
      "(2, 3)\n",
      "[[[1. 1. 1.]]\n",
      "\n",
      " [[1. 1. 1.]]]\n",
      "(2, 1, 3)\n",
      "[[[1. 1. 1.]\n",
      "  [1. 1. 1.]]]\n",
      "(1, 2, 3)\n"
     ]
    }
   ],
   "source": [
    "# 차원 축소\n",
    "import numpy as np\n",
    "np_ones = np.ones((1,2,1,3))\n",
    "print(np_ones)\n",
    "\n",
    "squeezed = np.squeeze(np_ones)\n",
    "print(squeezed)\n",
    "print(squeezed.shape)\n",
    "\n",
    "squeezed = np.squeeze(np_ones, 0)\n",
    "print(squeezed)\n",
    "print(squeezed.shape)\n",
    "\n",
    "squeezed = np.squeeze(np_ones, 2)\n",
    "print(squeezed)\n",
    "print(squeezed.shape)"
   ]
  },
  {
   "cell_type": "code",
   "execution_count": 167,
   "metadata": {},
   "outputs": [
    {
     "name": "stdout",
     "output_type": "stream",
     "text": [
      "[1 2 3 4]\n",
      "[2 2 3 2]\n",
      "[1 2 3 4]\n",
      "[0 1 3 4]\n",
      "[1 2 3 4]\n",
      "[0 1 3 4]\n",
      "[2 2 3 2]\n"
     ]
    }
   ],
   "source": [
    "# 중복 제거\n",
    "import numpy as np\n",
    "a = [1,2,2,3,4,3,4,3,1]\n",
    "u_a, counts = np.unique(a, return_counts=True)\n",
    "print(u_a)\n",
    "print(counts)\n",
    "\n",
    "a = [1,2,2,3,4,3,4,3,1]\n",
    "u_a, indexs = np.unique(a, return_index=True)\n",
    "print(u_a)\n",
    "print(indexs)\n",
    "\n",
    "a = [1,2,2,3,4,3,4,3,1]\n",
    "u_a, indexs, counts = np.unique(a, return_index=True, return_counts=True)\n",
    "print(u_a)\n",
    "print(indexs)\n",
    "print(counts)"
   ]
  },
  {
   "cell_type": "code",
   "execution_count": 168,
   "metadata": {},
   "outputs": [
    {
     "name": "stdout",
     "output_type": "stream",
     "text": [
      "a [1 4 2 3]\n",
      "b [1 2 3 4]\n",
      "c [0 2 3 1]\n",
      "cc [1 2 3 4]\n",
      "a [1 2 3 4]\n"
     ]
    }
   ],
   "source": [
    "# 정렬\n",
    "import numpy as np\n",
    "a = np.array([1,4,2,3])\n",
    "b = np.sort(a)  #a[np.argsort(a)]와 동일\n",
    "c = np.argsort(a)\n",
    "print(f\"a {a}\")\n",
    "print(f\"b {b}\")\n",
    "print(f\"c {c}\")\n",
    "print(f\"cc {a[c]}\")\n",
    "a.sort()\n",
    "print(f\"a {a}\")\n",
    "# a[c.sort()]  #바로 위에 두 줄 지우고 이거하면 다시 a값으로 돌아감 -> 왜??"
   ]
  },
  {
   "cell_type": "code",
   "execution_count": 155,
   "metadata": {},
   "outputs": [
    {
     "data": {
      "text/plain": [
       "2.5"
      ]
     },
     "execution_count": 155,
     "metadata": {},
     "output_type": "execute_result"
    }
   ],
   "source": [
    "# 그 밖에 유용한 함수\n",
    "import numpy as np\n",
    "a = np.array([1,4,2,3])\n",
    "np.mean(a)\n",
    "np.std(a)\n",
    "np.var(a)\n",
    "np.max(a)\n",
    "np.min(a)\n",
    "np.sum(a)\n",
    "np.prod(a)\n",
    "np.median(a)\n"
   ]
  },
  {
   "cell_type": "code",
   "execution_count": 175,
   "metadata": {},
   "outputs": [
    {
     "name": "stdout",
     "output_type": "stream",
     "text": [
      "[[  0   1   2   3   4]\n",
      " [-99   6 -99   8 -99]\n",
      " [-99  11 -99  13 -99]]\n",
      "[[-99   1 -99   3 -99]\n",
      " [-99   6 -99   8 -99]\n",
      " [  0  11   2  13   4]]\n",
      "[[  0   1   2   3   4]\n",
      " [-99 -99 -99   6   8]\n",
      " [-99 -99 -99  11  13]]\n"
     ]
    }
   ],
   "source": [
    "# 그 밖에 유용한 함수 - 2차원에서 예제(axis넣어서 열과 행으로 나눠서 계산 가능)\n",
    "import numpy as np\n",
    "x = np.arange(15, dtype=np.int64).reshape(3, 5)\n",
    "x[1:, ::2] = -99\n",
    "print(x)\n",
    "\n",
    "a = np.sort(x, axis=0)  #axis=0 -> 행 기준 ||\n",
    "print(a)\n",
    "\n",
    "b= np.sort(x,axis=1)  #axis=1 -> 열 기준 =\n",
    "print(b)"
   ]
  },
  {
   "cell_type": "code",
   "execution_count": 183,
   "metadata": {},
   "outputs": [
    {
     "name": "stdout",
     "output_type": "stream",
     "text": [
      "[  1   2   3   4   5   7   8   9  10  11  24 100]\n",
      "최대 : 100\n",
      "최소 : 1\n",
      "평균값 : 15.333333333333334\n",
      "합 : 184\n",
      "중복제거x배열 중간값 : 5.0\n"
     ]
    }
   ],
   "source": [
    "# 실습2. Numpy 모듈 사용해보기2\n",
    "a = [1,1,2,3,4,5,5,5,5,7,8,9,10,11,24,100]\n",
    "##1\n",
    "import numpy as np\n",
    "u_a = np.unique(a)\n",
    "print(u_a)\n",
    "\n",
    "##2\n",
    "print(f\"최대 : {np.max(u_a)}\")\n",
    "print(f\"최소 : {np.min(u_a)}\")\n",
    "print(f\"평균값 : {np.mean(u_a)}\")\n",
    "\n",
    "##3\n",
    "print(f\"합 : {np.sum(u_a)}\")\n",
    "\n",
    "##4\n",
    "print(f\"중복제거x배열 중간값 : {np.median(a)}\")"
   ]
  },
  {
   "cell_type": "code",
   "execution_count": 249,
   "metadata": {},
   "outputs": [
    {
     "name": "stdout",
     "output_type": "stream",
     "text": [
      "[[  0   1   2   3   4]\n",
      " [-99   6 -99   8 -99]\n",
      " [-99  11 -99  13 -99]]\n",
      "1열 최대값 : 0\n",
      "1열 최소값 : -99\n",
      "1열 평균값 : -66.0\n",
      "2행 모든 합: -283\n",
      "[100  24  11  10   9   8   7   5   5   5   5   4   3   2   1   1]\n"
     ]
    }
   ],
   "source": [
    "# 실습3. Numpy 모듈 사용해보기3\n",
    "import numpy as np\n",
    "x = np.arange(15, dtype=np.int64).reshape(3,5)\n",
    "x[1:, ::2] = -99\n",
    "print(x)\n",
    "##1\n",
    "max_1 = np.max(x[:,0])\n",
    "print(f\"1열 최대값 : {max_1}\")\n",
    "min_1 = np.min(x[:,0])\n",
    "print(f\"1열 최소값 : {min_1}\")\n",
    "mean_1 = np.mean(x[:,0])\n",
    "print(f\"1열 평균값 : {mean_1}\")\n",
    "\n",
    "##2\n",
    "sum_2 = np.sum(x[1])\n",
    "print(f\"2행 모든 합: {sum_2}\")\n",
    "\n",
    "##3\n",
    "a = np.array([1,1,2,3,4,5,5,5,5,7,8,9,10,11,24,100])\n",
    "b = np.argsort(a)\n",
    "c = b[::-1]\n",
    "print(a[c])"
   ]
  },
  {
   "cell_type": "code",
   "execution_count": null,
   "metadata": {},
   "outputs": [],
   "source": []
  }
 ],
 "metadata": {
  "kernelspec": {
   "display_name": "base",
   "language": "python",
   "name": "python3"
  },
  "language_info": {
   "codemirror_mode": {
    "name": "ipython",
    "version": 3
   },
   "file_extension": ".py",
   "mimetype": "text/x-python",
   "name": "python",
   "nbconvert_exporter": "python",
   "pygments_lexer": "ipython3",
   "version": "3.12.7"
  }
 },
 "nbformat": 4,
 "nbformat_minor": 2
}
