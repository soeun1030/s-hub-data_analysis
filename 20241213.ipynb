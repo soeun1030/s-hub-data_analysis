{
 "cells": [
  {
   "cell_type": "code",
   "execution_count": 7,
   "metadata": {},
   "outputs": [
    {
     "name": "stdout",
     "output_type": "stream",
     "text": [
      "[3 1 2]\n",
      "<class 'numpy.ndarray'>\n",
      "<class 'list'>\n"
     ]
    }
   ],
   "source": [
    "# numpy 사용하기\n",
    "import numpy as np\n",
    "# x = np.array([3,1,2])\n",
    "print(x)\n",
    "print(type(x))\n",
    "print(type([3,1,2]))"
   ]
  },
  {
   "cell_type": "markdown",
   "metadata": {},
   "source": []
  },
  {
   "cell_type": "code",
   "execution_count": 5,
   "metadata": {},
   "outputs": [
    {
     "name": "stdout",
     "output_type": "stream",
     "text": [
      "1 1\n",
      "1 2\n"
     ]
    }
   ],
   "source": [
    "c = [[1],[1,2]]\n",
    "d = np.array([[1,1],[1,2]])\n",
    "\n",
    "for x,y in d:\n",
    "    print(x,y)"
   ]
  },
  {
   "cell_type": "code",
   "execution_count": 15,
   "metadata": {},
   "outputs": [
    {
     "name": "stdout",
     "output_type": "stream",
     "text": [
      "[3.1 6.  9. ]\n",
      "[-0.9 -2.  -3. ]\n",
      "[ 2.2  8.  18. ]\n",
      "[0.55 0.5  0.5 ]\n",
      "float64\n"
     ]
    }
   ],
   "source": [
    "x = np.array([1.1, 2.0, 3.0, 4.0])  #\"1.0\", \"2.0\", \"3.0\" 이렇게 문자로 하면 오류뜸\n",
    "y = np.array([2.0, 4.0, 6.0])\n",
    "\n",
    "print(x+y)\n",
    "print(x-y)\n",
    "print(x*y)\n",
    "print(x/y)\n",
    "\n",
    "print(x.dtype)"
   ]
  },
  {
   "cell_type": "code",
   "execution_count": 13,
   "metadata": {},
   "outputs": [
    {
     "name": "stdout",
     "output_type": "stream",
     "text": [
      "(3,)\n",
      "int32\n",
      "(2, 2)\n",
      "[1. 2. 3.]\n"
     ]
    }
   ],
   "source": [
    "print(x.shape)\n",
    "print(x.dtype)\n",
    "print(d.shape)\n",
    "print(y/2.0)  #dtype : data type"
   ]
  },
  {
   "cell_type": "code",
   "execution_count": null,
   "metadata": {},
   "outputs": [],
   "source": []
  }
 ],
 "metadata": {
  "kernelspec": {
   "display_name": "base",
   "language": "python",
   "name": "python3"
  },
  "language_info": {
   "codemirror_mode": {
    "name": "ipython",
    "version": 3
   },
   "file_extension": ".py",
   "mimetype": "text/x-python",
   "name": "python",
   "nbconvert_exporter": "python",
   "pygments_lexer": "ipython3",
   "version": "3.12.7"
  }
 },
 "nbformat": 4,
 "nbformat_minor": 2
}
